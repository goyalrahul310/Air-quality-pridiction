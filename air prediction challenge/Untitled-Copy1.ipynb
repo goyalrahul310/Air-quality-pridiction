{
 "cells": [
  {
   "cell_type": "code",
   "execution_count": 51,
   "metadata": {},
   "outputs": [],
   "source": [
    "import numpy as np\n",
    "import pandas as pd\n",
    "import matplotlib.pyplot as plt"
   ]
  },
  {
   "cell_type": "code",
   "execution_count": 52,
   "metadata": {},
   "outputs": [
    {
     "name": "stdout",
     "output_type": "stream",
     "text": [
      "(1600, 5)\n",
      "(1600, 1)\n"
     ]
    }
   ],
   "source": [
    "#a = pd.read_csv(\"Train.csv\")\n",
    "#b = pd.read_csv(\"Linear_Y_Train.csv\")\n",
    "dfx = pd.read_csv(\"Train.csv\", usecols = ['feature_1','feature_2','feature_3','feature_4','feature_5'])\n",
    "dfy = pd.read_csv(\"Train.csv\",usecols = ['target'])\n",
    "print(dfx.shape)\n",
    "print(dfy.shape)\n",
    "#print(b.shape)"
   ]
  },
  {
   "cell_type": "code",
   "execution_count": 54,
   "metadata": {},
   "outputs": [],
   "source": [
    "X = dfx.values\n",
    "Y = dfy.values\n",
    "X = (X - X.mean())/X.std()\n",
    "Y = Y\n",
    "#plt.scatter(X,Y)\n",
    "#print(X[0][1])"
   ]
  },
  {
   "cell_type": "code",
   "execution_count": 55,
   "metadata": {},
   "outputs": [],
   "source": [
    "def hypothesis(X,theta):\n",
    "    p=0\n",
    "    for i in range(X.shape[0]):\n",
    "        p += theta[i]*X[i]\n",
    "    return p\n",
    "\n",
    "def error(X,Y,theta):\n",
    "    error = 0\n",
    "    n = X.shape[1]\n",
    "    m = X.shape[0]\n",
    "    for i in range(n):\n",
    "        for j in range(m):\n",
    "            hx = hypothesis(X[j],theta)\n",
    "        error += (hx - Y[j])**2\n",
    "    return error\n",
    "\n",
    "def gradient(X,Y,theta):\n",
    "    m = X.shape[0]\n",
    "    n = X.shape[1]\n",
    "    grad = np.zeros((n,))\n",
    "   \n",
    "    for j in range(n):\n",
    "        for i in range(m):\n",
    "            hx = hypothesis(X[i],theta)\n",
    "            grad[j] += ( hx - Y[i][0])*X[i][j]\n",
    "        \n",
    "    return grad\n",
    "\n",
    "\n",
    "def gradientdescent(X,Y,learning_rate = 0.001):\n",
    "    n = X.shape[1]\n",
    "    theta = np.zeros((n,))\n",
    "    #gradient = np.zeroes((2,))\n",
    "    \n",
    "    itr = 0\n",
    "    max_itr = 100\n",
    "    error_list = []\n",
    "   \n",
    "    while(itr <= max_itr):\n",
    "        grad = gradient(X,Y,theta)\n",
    "        e = error(X,Y,theta)\n",
    "        error_list.append(e)\n",
    "        for j in range(n):\n",
    "            theta[j] = theta[j] - learning_rate*grad[j]\n",
    "        itr += 1\n",
    "        \n",
    "    return theta,error_list\n"
   ]
  },
  {
   "cell_type": "code",
   "execution_count": 56,
   "metadata": {},
   "outputs": [],
   "source": [
    "final_theta,error_list = gradientdescent(X,Y)"
   ]
  },
  {
   "cell_type": "code",
   "execution_count": 57,
   "metadata": {},
   "outputs": [
    {
     "data": {
      "text/plain": [
       "[<matplotlib.lines.Line2D at 0x194d0128278>]"
      ]
     },
     "execution_count": 57,
     "metadata": {},
     "output_type": "execute_result"
    },
    {
     "data": {
      "image/png": "[encoded data removed]",
      "text/plain": [
       "<Figure size 432x288 with 1 Axes>"
      ]
     },
     "metadata": {
      "needs_background": "light"
     },
     "output_type": "display_data"
    }
   ],
   "source": [
    "plt.plot(error_list)"
   ]
  },
  {
   "cell_type": "code",
   "execution_count": 45,
   "metadata": {},
   "outputs": [
    {
     "name": "stdout",
     "output_type": "stream",
     "text": [
      "[29.87729791 93.15160351  8.29174446 44.97966243  2.57995954]\n"
     ]
    }
   ],
   "source": [
    "print(final_theta)"
   ]
  },
  {
   "cell_type": "code",
   "execution_count": 71,
   "metadata": {},
   "outputs": [
    {
     "name": "stdout",
     "output_type": "stream",
     "text": [
      "(400, 5)\n"
     ]
    }
   ],
   "source": [
    " #plot the line for testing data\n",
    "xtest = pd.read_csv(\"Test.csv\")\n",
    "print(xtest.shape)\n",
    "xtest = xtest.values"
   ]
  },
  {
   "cell_type": "code",
   "execution_count": null,
   "metadata": {},
   "outputs": [],
   "source": []
  },
  {
   "cell_type": "code",
   "execution_count": 80,
   "metadata": {},
   "outputs": [],
   "source": [
    "\n",
    "m = xtest.shape[0]\n",
    "n = xtest.shape[1]\n",
    "#for j in range(n):\n",
    "for i in range(m):\n",
    "    lx = hypothesis(xtest[i],final_theta)\n",
    "    y_pred.append(lx)\n",
    "#print(lx.shape)"
   ]
  },
  {
   "cell_type": "code",
   "execution_count": 89,
   "metadata": {},
   "outputs": [
    {
     "name": "stdout",
     "output_type": "stream",
     "text": [
      "(400,)\n"
     ]
    }
   ],
   "source": [
    "y_predm = np.array(y_pred)\n",
    "print(y_predm.shape)"
   ]
  },
  {
   "cell_type": "code",
   "execution_count": 90,
   "metadata": {},
   "outputs": [
    {
     "data": {
      "text/html": [
       "<div>\n",
       "<style scoped>\n",
       "    .dataframe tbody tr th:only-of-type {\n",
       "        vertical-align: middle;\n",
       "    }\n",
       "\n",
       "    .dataframe tbody tr th {\n",
       "        vertical-align: top;\n",
       "    }\n",
       "\n",
       "    .dataframe thead th {\n",
       "        text-align: right;\n",
       "    }\n",
       "</style>\n",
       "<table border=\"1\" class=\"dataframe\">\n",
       "  <thead>\n",
       "    <tr style=\"text-align: right;\">\n",
       "      <th></th>\n",
       "      <th>Id</th>\n",
       "      <th>target</th>\n",
       "    </tr>\n",
       "  </thead>\n",
       "  <tbody>\n",
       "    <tr>\n",
       "      <th>0</th>\n",
       "      <td>0</td>\n",
       "      <td>110.231623</td>\n",
       "    </tr>\n",
       "    <tr>\n",
       "      <th>1</th>\n",
       "      <td>1</td>\n",
       "      <td>113.549427</td>\n",
       "    </tr>\n",
       "    <tr>\n",
       "      <th>2</th>\n",
       "      <td>2</td>\n",
       "      <td>-26.831317</td>\n",
       "    </tr>\n",
       "    <tr>\n",
       "      <th>3</th>\n",
       "      <td>3</td>\n",
       "      <td>-49.349833</td>\n",
       "    </tr>\n",
       "    <tr>\n",
       "      <th>4</th>\n",
       "      <td>4</td>\n",
       "      <td>-101.464753</td>\n",
       "    </tr>\n",
       "  </tbody>\n",
       "</table>\n",
       "</div>"
      ],
      "text/plain": [
       "   Id      target\n",
       "0   0  110.231623\n",
       "1   1  113.549427\n",
       "2   2  -26.831317\n",
       "3   3  -49.349833\n",
       "4   4 -101.464753"
      ]
     },
     "execution_count": 90,
     "metadata": {},
     "output_type": "execute_result"
    }
   ],
   "source": [
    "ID = [ix for ix in range(0,400)]\n",
    "submiss = pd.DataFrame({\"Id\" : ID ,\"target\" : y_predm})\n",
    "submiss.to_csv(\"sample_submission.csv\",index = False)\n",
    "submiss.head()"
   ]
  },
  {
   "cell_type": "code",
   "execution_count": null,
   "metadata": {},
   "outputs": [],
   "source": []
  }
 ],
 "metadata": {
  "kernelspec": {
   "display_name": "Python 3",
   "language": "python",
   "name": "python3"
  },
  "language_info": {
   "codemirror_mode": {
    "name": "ipython",
    "version": 3
   },
   "file_extension": ".py",
   "mimetype": "text/x-python",
   "name": "python",
   "nbconvert_exporter": "python",
   "pygments_lexer": "ipython3",
   "version": "3.7.1"
  }
 },
 "nbformat": 4,
 "nbformat_minor": 2
}
